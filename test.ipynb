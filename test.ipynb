{
 "cells": [
  {
   "cell_type": "code",
   "execution_count": null,
   "metadata": {},
   "outputs": [],
   "source": [
    "import os\n",
    "import numpy as np\n",
    "\n",
    "import torch\n",
    "\n",
    "from torch.autograd import Variable\n",
    "\n",
    "import import_ipynb\n",
    "from prednet import PredNet"
   ]
  },
  {
   "cell_type": "code",
   "execution_count": null,
   "metadata": {},
   "outputs": [],
   "source": [
    "SET_NAME = 'Set9'\n",
    "batch_size = 1\n",
    "A_channels = (3, 48, 96, 192)\n",
    "R_channels = (3, 48, 96, 192)\n",
    "DATA_DIR = 'D:/WS/PredNet/Result/{}/Original'.format(SET_NAME)"
   ]
  },
  {
   "cell_type": "code",
   "execution_count": null,
   "metadata": {},
   "outputs": [],
   "source": [
    "model = PredNet(R_channels, A_channels, output_mode='out_all')\n",
    "model.load_state_dict(torch.load('models/training_0020.pt', map_location=torch.device('cpu')))\n",
    "\n",
    "if torch.cuda.is_available():\n",
    "    print(\"Using GPU.\")\n",
    "    model.cuda()"
   ]
  },
  {
   "cell_type": "code",
   "execution_count": null,
   "metadata": {},
   "outputs": [],
   "source": [
    "# save np.load\n",
    "np_load_old = np.load\n",
    "\n",
    "# modify the default parameters of np.load\n",
    "np.load = lambda *a,**k: np_load_old(*a, allow_pickle=True, **k)"
   ]
  },
  {
   "cell_type": "code",
   "execution_count": null,
   "metadata": {},
   "outputs": [],
   "source": [
    "## KITTI\n",
    "\n",
    "allinputs = []\n",
    "for i in [0,2,4,6,8]:\n",
    "    inputfn = os.path.join(DATA_DIR, '{:010d}.npy'.format(i))\n",
    "    inputarray = np.load(inputfn).transpose(2,0,1).tolist()\n",
    "    allinputs.append(inputarray)\n",
    "allinputs = np.array([allinputs])\n",
    "print(allinputs.shape)\n",
    "\n",
    "inputs = torch.from_numpy(allinputs)\n",
    "inputs = Variable(inputs)\n",
    "nt = inputs.shape[1]\n",
    "\n",
    "ALL = model(inputs)"
   ]
  },
  {
   "cell_type": "code",
   "execution_count": null,
   "metadata": {},
   "outputs": [],
   "source": [
    "# ## DOT\n",
    "# \n",
    "# inputfn = os.path.join(DATA_DIR, '{}.npy'.format(SET_NAME))\n",
    "# inputarray = np.load(inputfn)\n",
    "# \n",
    "# inputs = inputarray[0]\n",
    "# inputs = np.transpose(inputs,(0,3,1,2))\n",
    "# inputs = np.array([inputs])\n",
    "# \n",
    "# inputs = torch.from_numpy(inputs)\n",
    "# inputs = Variable(inputs)\n",
    "# nt = inputs.shape[1]\n",
    "# \n",
    "# ALL = model(inputs)"
   ]
  },
  {
   "cell_type": "code",
   "execution_count": null,
   "metadata": {},
   "outputs": [],
   "source": [
    "namelist = [\"A\", \"Ahat\", \"E\"]\n",
    "for i in range(len(ALL)-1):\n",
    "    for t in range(5):\n",
    "        for l in range(4):\n",
    "            org = ALL[i]\n",
    "            orgLayer = org[t*4+l][0]\n",
    "            fn = \"{}{}_t{}.npy\".format(namelist[i],l,t)\n",
    "            orgdir = \"0711res/kitti/{}\".format(fn)\n",
    "            np.save(orgdir, orgLayer)\n",
    "R = ALL[len(ALL)-1]\n",
    "for t in range(5):\n",
    "    for l in range(4):\n",
    "        orgR = R[t*4+l][0]\n",
    "        fn = \"R{}_t{}.npy\".format((3-l),t)\n",
    "        Rdir = \"0711res/kitti/{}\".format(fn)\n",
    "        np.save(Rdir,orgR)"
   ]
  }
 ],
 "metadata": {
  "kernelspec": {
   "display_name": "tc365",
   "language": "python",
   "name": "tc365"
  },
  "language_info": {
   "codemirror_mode": {
    "name": "ipython",
    "version": 3
   },
   "file_extension": ".py",
   "mimetype": "text/x-python",
   "name": "python",
   "nbconvert_exporter": "python",
   "pygments_lexer": "ipython3",
   "version": "3.7.10"
  },
  "toc": {
   "base_numbering": 1,
   "nav_menu": {},
   "number_sections": true,
   "sideBar": true,
   "skip_h1_title": false,
   "title_cell": "Table of Contents",
   "title_sidebar": "Contents",
   "toc_cell": false,
   "toc_position": {},
   "toc_section_display": true,
   "toc_window_display": false
  },
  "varInspector": {
   "cols": {
    "lenName": 16,
    "lenType": 16,
    "lenVar": 40
   },
   "kernels_config": {
    "python": {
     "delete_cmd_postfix": "",
     "delete_cmd_prefix": "del ",
     "library": "var_list.py",
     "varRefreshCmd": "print(var_dic_list())"
    },
    "r": {
     "delete_cmd_postfix": ") ",
     "delete_cmd_prefix": "rm(",
     "library": "var_list.r",
     "varRefreshCmd": "cat(var_dic_list()) "
    }
   },
   "types_to_exclude": [
    "module",
    "function",
    "builtin_function_or_method",
    "instance",
    "_Feature"
   ],
   "window_display": false
  }
 },
 "nbformat": 4,
 "nbformat_minor": 4
}
