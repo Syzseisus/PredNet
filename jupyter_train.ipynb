{
 "cells": [
  {
   "cell_type": "code",
   "execution_count": null,
   "metadata": {},
   "outputs": [],
   "source": [
    "import os\n",
    "import gc\n",
    "import sys\n",
    "\n",
    "import torch\n",
    "import torch.nn as nn\n",
    "from torch.autograd import Variable\n",
    "from torch.utils.data import DataLoader\n",
    "\n",
    "from torchinfo import summary\n",
    "\n",
    "from kitti_data_load import KITTI\n",
    "from prednet import PredNet"
   ]
  },
  {
   "cell_type": "code",
   "execution_count": null,
   "metadata": {},
   "outputs": [],
   "source": [
    "gc.collect()\n",
    "torch.cuda.empty_cache()"
   ]
  },
  {
   "cell_type": "code",
   "execution_count": null,
   "metadata": {},
   "outputs": [],
   "source": [
    "num_epochs = 150\n",
    "batch_size = 1\n",
    "A_channels = (3, 48, 96, 192)\n",
    "R_channels = (3, 48, 96, 192)\n",
    "lr = 0.001 # if epoch < 75 0.001 else 0.0001\n",
    "nt = 10 # num of time steps\n",
    "\n",
    "DATA_DIR = 'kitti_data_raw'"
   ]
  },
  {
   "cell_type": "code",
   "execution_count": null,
   "metadata": {},
   "outputs": [],
   "source": [
    "layer_loss_weights = Variable(torch.FloatTensor([[1.], [0.], [0.], [0.]]).cuda())\n",
    "time_loss_weights = 1./(nt - 1) * torch.ones(nt, 1)\n",
    "time_loss_weights[0] = 0\n",
    "time_loss_weights = Variable(time_loss_weights.cuda())\n",
    "print(\"layer loss: \", layer_loss_weights.shape, '\\n',\n",
    "      \"time loss: \", time_loss_weights.shape)"
   ]
  },
  {
   "cell_type": "code",
   "execution_count": null,
   "metadata": {},
   "outputs": [],
   "source": [
    "train_file = os.path.join(DATA_DIR, 'X_train.hkl')\n",
    "train_sources = os.path.join(DATA_DIR, 'sources_train.hkl')\n",
    "val_file = os.path.join(DATA_DIR, 'X_val.hkl')\n",
    "val_sources = os.path.join(DATA_DIR, 'sources_val.hkl')\n",
    "\n",
    "# time_step, height, width, channels\n",
    "kitti_train = KITTI(train_file, train_sources, nt)\n",
    "kitti_val = KITTI(val_file, val_sources, nt)"
   ]
  },
  {
   "cell_type": "code",
   "execution_count": null,
   "metadata": {},
   "outputs": [],
   "source": [
    "train_loader = DataLoader(kitti_train, batch_size=batch_size, shuffle=True)\n",
    "val_loader = DataLoader(kitti_val, batch_size=batch_size, shuffle=True)"
   ]
  },
  {
   "cell_type": "code",
   "execution_count": null,
   "metadata": {},
   "outputs": [],
   "source": [
    "model = PredNet(R_channels, A_channels, output_mode='error_all')\n",
    "if torch.cuda.is_available():\n",
    "    print('Using GPU.')\n",
    "    model.cuda()"
   ]
  },
  {
   "cell_type": "code",
   "execution_count": null,
   "metadata": {},
   "outputs": [],
   "source": [
    "model.eval()"
   ]
  },
  {
   "cell_type": "code",
   "execution_count": null,
   "metadata": {},
   "outputs": [],
   "source": [
    "summary(model, (batch_size,nt,3,128,160))"
   ]
  },
  {
   "cell_type": "code",
   "execution_count": null,
   "metadata": {},
   "outputs": [],
   "source": [
    "optimizer = torch.optim.SGD(model.parameters(), lr=lr)"
   ]
  },
  {
   "cell_type": "code",
   "execution_count": null,
   "metadata": {},
   "outputs": [],
   "source": [
    "def lr_scheduler(optimizer, epoch):\n",
    "    if epoch < num_epochs //2:\n",
    "        return optimizer\n",
    "    else:\n",
    "        for param_group in optimizer.param_groups:\n",
    "            param_group['lr'] = 0.0001\n",
    "        return optimizer"
   ]
  },
  {
   "cell_type": "code",
   "execution_count": null,
   "metadata": {},
   "outputs": [],
   "source": [
    "def progressbar(iter_, prefix=\"\", size=60, file=sys.stdout):\n",
    "    count = len(iter_)\n",
    "    \n",
    "    def show(j):\n",
    "        x = int(size * j / count)\n",
    "        file.write(\"{}[{}{}] {:3d}/{}\\r\".format(prefix, \"#\"*x, \".\"*(size-x), j, count))\n",
    "        file.flush()\n",
    "    show(0)\n",
    "    \n",
    "    loss = 0\n",
    "    for i, item in enumerate(iter_):\n",
    "        inputs = item.permute(0,1,4,2,3) # batch x time_steps x channel x width x height\n",
    "        inputs = Variable(inputs.cuda())\n",
    "        \n",
    "        loss_temp = model(inputs) # batch x n_layers x nt\n",
    "        loss += loss_temp\n",
    "        del loss_temp\n",
    "        \n",
    "        show(i+1)\n",
    "    file.write(\"\\n\")\n",
    "    file.flush()\n",
    "    \n",
    "    return loss"
   ]
  },
  {
   "cell_type": "code",
   "execution_count": null,
   "metadata": {},
   "outputs": [],
   "source": [
    "for epoch in range(100):\n",
    "    optimizer = lr_scheduler(optimizer, epoch)\n",
    "    \n",
    "    loss = progressbar(train_loader, \"step: \", 40)\n",
    "        \n",
    "    optimizer.zero_grad()\n",
    "    loss.backward()\n",
    "    optimizer.step()\n",
    "    print('Epoch: {}/{}, loss: {}'.format(epoch, num_epochs, loss))\n",
    "    \n",
    "    with pytorch.no_grad():\n",
    "            torch.cuda.empty_cache()\n",
    "    \n",
    "    if epoch%10 == 0:\n",
    "        torch.save(model.state_dict(), 'models/training_{:04d}.pt'.format(epoch))\n",
    "torch.save(model.state_dict(), 'models/training.pt')"
   ]
  }
 ],
 "metadata": {
  "kernelspec": {
   "display_name": "tc365",
   "language": "python",
   "name": "tc365"
  },
  "language_info": {
   "codemirror_mode": {
    "name": "ipython",
    "version": 3
   },
   "file_extension": ".py",
   "mimetype": "text/x-python",
   "name": "python",
   "nbconvert_exporter": "python",
   "pygments_lexer": "ipython3",
   "version": "3.7.10"
  },
  "toc": {
   "base_numbering": 1,
   "nav_menu": {},
   "number_sections": true,
   "sideBar": true,
   "skip_h1_title": false,
   "title_cell": "Table of Contents",
   "title_sidebar": "Contents",
   "toc_cell": false,
   "toc_position": {},
   "toc_section_display": true,
   "toc_window_display": false
  },
  "varInspector": {
   "cols": {
    "lenName": 16,
    "lenType": 16,
    "lenVar": 40
   },
   "kernels_config": {
    "python": {
     "delete_cmd_postfix": "",
     "delete_cmd_prefix": "del ",
     "library": "var_list.py",
     "varRefreshCmd": "print(var_dic_list())"
    },
    "r": {
     "delete_cmd_postfix": ") ",
     "delete_cmd_prefix": "rm(",
     "library": "var_list.r",
     "varRefreshCmd": "cat(var_dic_list()) "
    }
   },
   "types_to_exclude": [
    "module",
    "function",
    "builtin_function_or_method",
    "instance",
    "_Feature"
   ],
   "window_display": false
  }
 },
 "nbformat": 4,
 "nbformat_minor": 4
}
