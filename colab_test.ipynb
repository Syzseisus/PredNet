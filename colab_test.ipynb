{
  "nbformat": 4,
  "nbformat_minor": 0,
  "metadata": {
    "colab": {
      "name": "test.ipynb",
      "provenance": [],
      "collapsed_sections": []
    },
    "kernelspec": {
      "name": "python3",
      "display_name": "Python 3"
    },
    "language_info": {
      "name": "python"
    },
    "accelerator": "GPU"
  },
  "cells": [
    {
      "cell_type": "markdown",
      "metadata": {
        "id": "iy8yYagOk9wH"
      },
      "source": [
        "## Mount Drive"
      ]
    },
    {
      "cell_type": "code",
      "metadata": {
        "id": "90hp57kZSZ1-"
      },
      "source": [
        "from google.colab import drive\n",
        "drive.mount('/content/MyDrive')"
      ],
      "execution_count": null,
      "outputs": []
    },
    {
      "cell_type": "code",
      "metadata": {
        "id": "LDLxpXnoTjON"
      },
      "source": [
        "%cd /content/MyDrive/MyDrive/PredNet_ApparentMotion"
      ],
      "execution_count": null,
      "outputs": []
    },
    {
      "cell_type": "markdown",
      "metadata": {
        "id": "CxCgYHrplAMM"
      },
      "source": [
        "## Import"
      ]
    },
    {
      "cell_type": "code",
      "metadata": {
        "id": "yvYINZCSScqw"
      },
      "source": [
        "import os\n",
        "import numpy as np\n",
        "\n",
        "import torch\n",
        "\n",
        "from torch.autograd import Variable\n",
        "\n",
        "from prednet_lotterly2 import PredNet"
      ],
      "execution_count": null,
      "outputs": []
    },
    {
      "cell_type": "markdown",
      "metadata": {
        "id": "mZe35b45lBmH"
      },
      "source": [
        "## Set Variables and Parameters"
      ]
    },
    {
      "cell_type": "code",
      "metadata": {
        "id": "FlAwZMdSScsx"
      },
      "source": [
        "batch_size = 1\n",
        "A_channels = (3, 48, 96, 192)\n",
        "R_channels = (3, 48, 96, 192)"
      ],
      "execution_count": null,
      "outputs": []
    },
    {
      "cell_type": "code",
      "metadata": {
        "id": "mkxADvcJScvE"
      },
      "source": [
        "model = PredNet(R_channels, A_channels, output_mode='out_all')\n",
        "model.load_state_dict(torch.load('./models/training.pt'", 
        "                                 map_location=torch.device('cpu')))\n",
        "\n",
        "if torch.cuda.is_available():\n",
        "    print(\"Using GPU.\")\n",
        "    model.cuda()"
      ],
      "execution_count": null,
      "outputs": []
    },
    {
      "cell_type": "markdown",
      "metadata": {
        "id": "9g8U6zGWllkl"
      },
      "source": [
        "## Load Test Files"
      ]
    },
    {
      "cell_type": "code",
      "metadata": {
        "id": "L0tsQcs7Scw4"
      },
      "source": [
        "# save np.load\n",
        "np_load_old = np.load\n",
        "\n",
        "# modify the default parameters of np.load\n",
        "np.load = lambda *a,**k: np_load_old(*a, allow_pickle=True, **k)"
      ],
      "execution_count": null,
      "outputs": []
    },
    {
      "cell_type": "code",
      "metadata": {
        "id": "77i4kzFJSczM"
      },
      "source": [
        "# # KITTI test\n",
        "\n",
        "# allinputs = []\n",
        "# for i in [0,2,4,6,8]:\n",
        "#     inputfn = './KITTI/{:010d}.npy'.format(i))\n",
        "#     inputarray = np.load(inputfn).transpose(2,0,1).tolist()\n",
        "#     allinputs.append(inputarray)\n",
        "# allinputs = np.array([allinputs])\n",
        "# print(allinputs.shape)\n",
        "\n",
        "# inputs = torch.from_numpy(allinputs)\n",
        "# inputs = Variable(inputs)\n",
        "# nt = inputs.shape[1]\n",
        "\n",
        "# ALL = model(inputs)"
      ],
      "execution_count": null,
      "outputs": []
    },
    {
      "cell_type": "code",
      "metadata": {
        "id": "du8rhL0ISc1Z"
      },
      "source": [
        "# DOT test\n",
        "\n",
        "inputfn = './Set9/Original/Set9.npy'\n",
        "inputarray = np.load(inputfn)\n",
        "\n",
        "inputs = inputarray[0]\n",
        "inputs = np.transpose(inputs,(0,3,1,2))\n",
        "inputs = np.array([inputs])\n",
        "\n",
        "inputs = torch.from_numpy(inputs)\n",
        "inputs = Variable(inputs)\n",
        "nt = inputs.shape[1]\n",
        "\n",
        "ALL = model(inputs)"
      ],
      "execution_count": null,
      "outputs": []
    },
    {
      "cell_type": "markdown",
      "metadata": {
        "id": "4mm44F8plpJh"
      },
      "source": [
        "## Save All of Layers as Numpy File"
      ]
    },
    {
      "cell_type": "code",
      "metadata": {
        "id": "u5Yox6jySc3w"
      },
      "source": [
        "namelist = [\"A\", \"Ahat\", \"E\"]\n",
        "for i in range(len(ALL)-1):\n",
        "    for t in range(5):\n",
        "        for l in range(4):\n",
        "            org = ALL[i]\n",
        "            orgLayer = org[t*4+l][0]\n",
        "            fn = \"{}{}_t{}.npy\".format(namelist[i],l,t)\n",
        "            orgdir = \"./results/dot/{}\".format(fn)\n",
        "            np.save(orgdir, orgLayer)\n",
        "R = ALL[len(ALL)-1]\n",
        "for t in range(5):\n",
        "    for l in range(4):\n",
        "        orgR = R[t*4+l][0]\n",
        "        fn = \"R{}_t{}.npy\".format((3-l),t)\n",
        "        Rdir = \"./results/dot/{}\".format(fn)\n",
        "        np.save(Rdir,orgR)"
      ],
      "execution_count": null,
      "outputs": []
    }
  ]
}
